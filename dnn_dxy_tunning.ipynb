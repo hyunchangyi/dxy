{
  "cells": [
    {
      "cell_type": "markdown",
      "metadata": {
        "id": "view-in-github",
        "colab_type": "text"
      },
      "source": [
        "<a href=\"https://colab.research.google.com/github/hyunchangyi/dxy/blob/main/dnn_dxy_tunning.ipynb\" target=\"_parent\"><img src=\"https://colab.research.google.com/assets/colab-badge.svg\" alt=\"Open In Colab\"/></a>"
      ]
    },
    {
      "cell_type": "code",
      "source": [
        "!git clone https://github.com/hyunchangyi/dxy.git"
      ],
      "metadata": {
        "colab": {
          "base_uri": "https://localhost:8080/"
        },
        "id": "CzR2wtK8gMmw",
        "outputId": "1cdbe97f-a46d-4072-fdf3-03bc8ab59add"
      },
      "id": "CzR2wtK8gMmw",
      "execution_count": 1,
      "outputs": [
        {
          "output_type": "stream",
          "name": "stdout",
          "text": [
            "Cloning into 'dxy'...\n",
            "remote: Enumerating objects: 31, done.\u001b[K\n",
            "remote: Counting objects: 100% (31/31), done.\u001b[K\n",
            "remote: Compressing objects: 100% (27/27), done.\u001b[K\n",
            "remote: Total 31 (delta 11), reused 0 (delta 0), pack-reused 0\u001b[K\n",
            "Unpacking objects: 100% (31/31), done.\n"
          ]
        }
      ]
    },
    {
      "cell_type": "code",
      "source": [
        "%pip install pandas==1.4.3"
      ],
      "metadata": {
        "colab": {
          "base_uri": "https://localhost:8080/",
          "height": 347
        },
        "id": "uPmodMFxi7hx",
        "outputId": "34ddf952-19d1-4787-a997-89d39f87f5b3"
      },
      "id": "uPmodMFxi7hx",
      "execution_count": 8,
      "outputs": [
        {
          "output_type": "stream",
          "name": "stdout",
          "text": [
            "Looking in indexes: https://pypi.org/simple, https://us-python.pkg.dev/colab-wheels/public/simple/\n",
            "Collecting pandas==1.4.3\n",
            "  Downloading pandas-1.4.3-cp38-cp38-manylinux_2_17_x86_64.manylinux2014_x86_64.whl (11.7 MB)\n",
            "\u001b[K     |████████████████████████████████| 11.7 MB 4.5 MB/s \n",
            "\u001b[?25hRequirement already satisfied: pytz>=2020.1 in /usr/local/lib/python3.8/dist-packages (from pandas==1.4.3) (2022.6)\n",
            "Requirement already satisfied: python-dateutil>=2.8.1 in /usr/local/lib/python3.8/dist-packages (from pandas==1.4.3) (2.8.2)\n",
            "Requirement already satisfied: numpy>=1.18.5 in /usr/local/lib/python3.8/dist-packages (from pandas==1.4.3) (1.21.6)\n",
            "Requirement already satisfied: six>=1.5 in /usr/local/lib/python3.8/dist-packages (from python-dateutil>=2.8.1->pandas==1.4.3) (1.15.0)\n",
            "Installing collected packages: pandas\n",
            "  Attempting uninstall: pandas\n",
            "    Found existing installation: pandas 1.3.5\n",
            "    Uninstalling pandas-1.3.5:\n",
            "      Successfully uninstalled pandas-1.3.5\n",
            "Successfully installed pandas-1.4.3\n"
          ]
        },
        {
          "output_type": "display_data",
          "data": {
            "application/vnd.colab-display-data+json": {
              "pip_warning": {
                "packages": [
                  "pandas"
                ]
              }
            }
          },
          "metadata": {}
        }
      ]
    },
    {
      "cell_type": "code",
      "execution_count": 1,
      "id": "f7ae23a0-298f-42e4-9f2c-6036f874c44c",
      "metadata": {
        "colab": {
          "base_uri": "https://localhost:8080/"
        },
        "id": "f7ae23a0-298f-42e4-9f2c-6036f874c44c",
        "outputId": "5107d9c7-da22-461a-c265-94197d3324f7"
      },
      "outputs": [
        {
          "output_type": "stream",
          "name": "stderr",
          "text": [
            "/usr/local/lib/python3.8/dist-packages/statsmodels/tsa/base/tsa_model.py:7: FutureWarning: pandas.Int64Index is deprecated and will be removed from pandas in a future version. Use pandas.Index with the appropriate dtype instead.\n",
            "  from pandas import (to_datetime, Int64Index, DatetimeIndex, Period,\n",
            "/usr/local/lib/python3.8/dist-packages/statsmodels/tsa/base/tsa_model.py:7: FutureWarning: pandas.Float64Index is deprecated and will be removed from pandas in a future version. Use pandas.Index with the appropriate dtype instead.\n",
            "  from pandas import (to_datetime, Int64Index, DatetimeIndex, Period,\n"
          ]
        }
      ],
      "source": [
        "%run dxy/dxy_forecast"
      ]
    },
    {
      "cell_type": "code",
      "execution_count": 2,
      "id": "0aa0e827-f6fc-4b43-9747-e6ff9a214e6a",
      "metadata": {
        "id": "0aa0e827-f6fc-4b43-9747-e6ff9a214e6a"
      },
      "outputs": [],
      "source": [
        "cv = ['inf', 'un', 'bill', 'note', 'bond', 'dp', 'pe', 'sret12', 'iv', 'is']\n",
        "gv = ['epu', 'mpu', 'gr', 'gvol', 'gill', 'gcor', 't10', 't5', 'vix', 'ted']\n",
        "sds = ['s', 'ds']"
      ]
    },
    {
      "cell_type": "code",
      "execution_count": 3,
      "id": "4fa5ac96-fa4f-4052-8be0-dd4a6caa3288",
      "metadata": {
        "id": "4fa5ac96-fa4f-4052-8be0-dd4a6caa3288"
      },
      "outputs": [],
      "source": [
        "def build_dnn(l1_reg, l2_reg, n_input):\n",
        "    dnn = Sequential()\n",
        "    dnn.add(Dense(16, activation=LeakyReLU(alpha=0.01), use_bias=False, input_shape=(n_input,),    \n",
        "                  kernel_regularizer=regularizers.L1L2(l1=l1_reg, l2=l2_reg) ))\n",
        "    dnn.add(Dropout(0.5))\n",
        "    dnn.add(Dense(8, activation=LeakyReLU(alpha=0.01), use_bias=False,\n",
        "                  kernel_regularizer=regularizers.L1L2(l1=l1_reg, l2=l2_reg) ))\n",
        "    dnn.add(Dropout(0.5))\n",
        "    dnn.add(Dense(4, activation=LeakyReLU(alpha=0.01), use_bias=False,\n",
        "                  kernel_regularizer=regularizers.L1L2(l1=l1_reg, l2=l2_reg) ))\n",
        "    dnn.add(Dropout(0.5))\n",
        "    dnn.add(Dense(2, activation=LeakyReLU(alpha=0.01), use_bias=False,\n",
        "                  kernel_regularizer=regularizers.L1L2(l1=l1_reg, l2=l2_reg) ))\n",
        "    dnn.add(Dense(1, activation=LeakyReLU(alpha=0.01), use_bias=False,\n",
        "                  kernel_regularizer=regularizers.L1L2(l1=l1_reg, l2=l2_reg) ))\n",
        "    dnn.compile(optimizer='adam', loss='mse', metrics=['mse'])  \n",
        "    return dnn"
      ]
    },
    {
      "cell_type": "markdown",
      "id": "4a132420-dc36-415a-8207-71c3f95daad0",
      "metadata": {
        "id": "4a132420-dc36-415a-8207-71c3f95daad0"
      },
      "source": [
        "# DXY"
      ]
    },
    {
      "cell_type": "markdown",
      "id": "85de6abe-2a3d-47a4-8f99-15d737ae011b",
      "metadata": {
        "id": "85de6abe-2a3d-47a4-8f99-15d737ae011b"
      },
      "source": [
        "## Full"
      ]
    },
    {
      "cell_type": "code",
      "execution_count": 4,
      "id": "578954b6-e942-49b2-835d-9c7f7771dabd",
      "metadata": {
        "id": "578954b6-e942-49b2-835d-9c7f7771dabd"
      },
      "outputs": [],
      "source": [
        "X, y = read_Xy('dxy/pickles/Xsdsm.pkl', 'dxy/pickles/ym.pkl')\n",
        "y = y.unstack()[co6].dot(dxy_weight)\n",
        "X = X.unstack()"
      ]
    },
    {
      "cell_type": "code",
      "source": [
        "X_train.shape"
      ],
      "metadata": {
        "colab": {
          "base_uri": "https://localhost:8080/"
        },
        "id": "WZGfH-tdlRGx",
        "outputId": "6acd5c57-8cd4-42d5-baec-fb204398c7a1"
      },
      "id": "WZGfH-tdlRGx",
      "execution_count": 8,
      "outputs": [
        {
          "output_type": "execute_result",
          "data": {
            "text/plain": [
              "(191, 1220)"
            ]
          },
          "metadata": {},
          "execution_count": 8
        }
      ]
    },
    {
      "cell_type": "code",
      "execution_count": 7,
      "id": "33aebf6b-5df7-4096-b806-74fa01f83c15",
      "metadata": {
        "colab": {
          "base_uri": "https://localhost:8080/"
        },
        "id": "33aebf6b-5df7-4096-b806-74fa01f83c15",
        "outputId": "8abbcf43-8086-4156-adab-8426afd287a9"
      },
      "outputs": [
        {
          "output_type": "stream",
          "name": "stderr",
          "text": [
            "\r0it [00:00, ?it/s]"
          ]
        },
        {
          "output_type": "stream",
          "name": "stdout",
          "text": [
            "3/3 [==============================] - 0s 2ms/step\n",
            "3/3 [==============================] - 0s 2ms/step\n",
            "3/3 [==============================] - 0s 2ms/step\n",
            "3/3 [==============================] - 0s 2ms/step\n",
            "3/3 [==============================] - 0s 2ms/step\n",
            "3/3 [==============================] - 0s 2ms/step\n",
            "3/3 [==============================] - 0s 2ms/step\n",
            "3/3 [==============================] - 0s 2ms/step\n",
            "3/3 [==============================] - 0s 2ms/step\n",
            "3/3 [==============================] - 0s 2ms/step\n"
          ]
        },
        {
          "output_type": "stream",
          "name": "stderr",
          "text": [
            "1it [01:22, 82.74s/it]\n"
          ]
        }
      ],
      "source": [
        "X_train, X_test, y_train, y_test = train_test_split(X, y, random_state=0, test_size=0.3, shuffle=False)\n",
        "\n",
        "n_input = X.shape[1]\n",
        "\n",
        "res = pd.DataFrame(columns = ['l1', 'l2', 'n_epochs', 'N', 'dropout', 'r2'])\n",
        "\n",
        "        \n",
        "for i, j, n_epochs, N in tqdm(itertools.product([0.3], [6.0], [500], [10])):\n",
        "    \n",
        "    l1 = 1e-7*i\n",
        "    l2 = 1e-5*j\n",
        "    \n",
        "    dnn = build_dnn(l1, l2, X.shape[1])\n",
        "    dnn.save_weights('dnn.h5')\n",
        "    \n",
        "    dnn_p = 0\n",
        "    \n",
        "    for q in range(N):\n",
        "        dnn.fit(X_train, y_train, epochs=n_epochs, batch_size=32, verbose=0)\n",
        "        dnn_p += dnn.predict(X_test).squeeze()\n",
        "        dnn.load_weights('dnn.h5')\n",
        "    \n",
        "    dnn_p = dnn_p / N\n",
        "    \n",
        "    error = y_test - dnn_p\n",
        "    r2 = (1 - np.sum(error**2)/np.sum(y_test**2))\n",
        "\n",
        "    df = pd.DataFrame([[l1, l2, n_epochs, N, r2]], columns = ['l1', 'l2', 'n_epochs', 'N', 'r2'])\n",
        "    res = pd.concat([res, df], axis=0)\n",
        "    \n",
        "    # print(f'l1: {l1_reg*1e6:.5f} E-6,\\t l2: {l2_reg*1e6:.5f} E-6,\\t MSE: {score[1]*1e3:.3f} E-3,\\t R2: {r2*1e3:+6.4f} E-3')"
      ]
    },
    {
      "cell_type": "code",
      "execution_count": 6,
      "id": "67f7591b-5d4c-40ed-b5e2-4ce4403d89e4",
      "metadata": {
        "colab": {
          "base_uri": "https://localhost:8080/",
          "height": 35
        },
        "id": "67f7591b-5d4c-40ed-b5e2-4ce4403d89e4",
        "outputId": "5bfa847f-61aa-4025-cb51-86a92103e201"
      },
      "outputs": [
        {
          "output_type": "execute_result",
          "data": {
            "text/plain": [
              "'/device:GPU:0'"
            ],
            "application/vnd.google.colaboratory.intrinsic+json": {
              "type": "string"
            }
          },
          "metadata": {},
          "execution_count": 6
        }
      ],
      "source": [
        "import tensorflow as tf\n",
        "tf.test.gpu_device_name()"
      ]
    },
    {
      "cell_type": "code",
      "execution_count": null,
      "id": "40c7b031-5a5e-4be1-9b83-dda916d496e2",
      "metadata": {
        "id": "40c7b031-5a5e-4be1-9b83-dda916d496e2",
        "outputId": "22d119f5-9929-4479-e4d0-8316189ebbd8"
      },
      "outputs": [
        {
          "data": {
            "text/html": [
              "<div>\n",
              "<style scoped>\n",
              "    .dataframe tbody tr th:only-of-type {\n",
              "        vertical-align: middle;\n",
              "    }\n",
              "\n",
              "    .dataframe tbody tr th {\n",
              "        vertical-align: top;\n",
              "    }\n",
              "\n",
              "    .dataframe thead th {\n",
              "        text-align: right;\n",
              "    }\n",
              "</style>\n",
              "<table border=\"1\" class=\"dataframe\">\n",
              "  <thead>\n",
              "    <tr style=\"text-align: right;\">\n",
              "      <th></th>\n",
              "      <th></th>\n",
              "      <th>mean</th>\n",
              "    </tr>\n",
              "    <tr>\n",
              "      <th>l1</th>\n",
              "      <th>l2</th>\n",
              "      <th></th>\n",
              "    </tr>\n",
              "  </thead>\n",
              "  <tbody>\n",
              "    <tr>\n",
              "      <th rowspan=\"2\" valign=\"top\">5.000000e-08</th>\n",
              "      <th>0.000065</th>\n",
              "      <td>0.056788</td>\n",
              "    </tr>\n",
              "    <tr>\n",
              "      <th>0.000060</th>\n",
              "      <td>0.055911</td>\n",
              "    </tr>\n",
              "    <tr>\n",
              "      <th rowspan=\"2\" valign=\"top\">3.000000e-08</th>\n",
              "      <th>0.000055</th>\n",
              "      <td>0.054789</td>\n",
              "    </tr>\n",
              "    <tr>\n",
              "      <th>0.000060</th>\n",
              "      <td>0.054305</td>\n",
              "    </tr>\n",
              "    <tr>\n",
              "      <th>5.000000e-08</th>\n",
              "      <th>0.000055</th>\n",
              "      <td>0.052956</td>\n",
              "    </tr>\n",
              "    <tr>\n",
              "      <th rowspan=\"3\" valign=\"top\">4.000000e-08</th>\n",
              "      <th>0.000060</th>\n",
              "      <td>0.051308</td>\n",
              "    </tr>\n",
              "    <tr>\n",
              "      <th>0.000055</th>\n",
              "      <td>0.047183</td>\n",
              "    </tr>\n",
              "    <tr>\n",
              "      <th>0.000065</th>\n",
              "      <td>0.044090</td>\n",
              "    </tr>\n",
              "    <tr>\n",
              "      <th>3.000000e-08</th>\n",
              "      <th>0.000065</th>\n",
              "      <td>0.037803</td>\n",
              "    </tr>\n",
              "  </tbody>\n",
              "</table>\n",
              "</div>"
            ],
            "text/plain": [
              "                           mean\n",
              "l1           l2                \n",
              "5.000000e-08 0.000065  0.056788\n",
              "             0.000060  0.055911\n",
              "3.000000e-08 0.000055  0.054789\n",
              "             0.000060  0.054305\n",
              "5.000000e-08 0.000055  0.052956\n",
              "4.000000e-08 0.000060  0.051308\n",
              "             0.000055  0.047183\n",
              "             0.000065  0.044090\n",
              "3.000000e-08 0.000065  0.037803"
            ]
          },
          "execution_count": 38,
          "metadata": {},
          "output_type": "execute_result"
        }
      ],
      "source": [
        "res.groupby(['l1', 'l2'])['r2'].agg(['mean']).sort_values('mean', ascending=False).head(10)"
      ]
    },
    {
      "cell_type": "code",
      "execution_count": null,
      "id": "1e99c4b2-a2b5-4c49-9881-26983cb6e273",
      "metadata": {
        "id": "1e99c4b2-a2b5-4c49-9881-26983cb6e273",
        "outputId": "dfe2ee2b-6d95-4a80-af7a-1263b3fac525"
      },
      "outputs": [
        {
          "data": {
            "text/plain": [
              "<matplotlib.tri.tricontour.TriContourSet at 0x7f1bf00f8a60>"
            ]
          },
          "execution_count": 39,
          "metadata": {},
          "output_type": "execute_result"
        },
        {
          "data": {
            "image/png": "[encoded data removed]",
            "text/plain": [
              "<Figure size 360x360 with 1 Axes>"
            ]
          },
          "metadata": {
            "needs_background": "light"
          },
          "output_type": "display_data"
        }
      ],
      "source": [
        "df = res.groupby(['l1', 'l2'], as_index=False)['r2'].mean()\n",
        "fig, axs = plt.subplots(1,1,figsize=(5,5))\n",
        "axs.tricontourf(df.l1, df.l2, df.r2)"
      ]
    },
    {
      "cell_type": "code",
      "execution_count": null,
      "id": "b290a166-b97f-4146-979b-a121e7a936f5",
      "metadata": {
        "id": "b290a166-b97f-4146-979b-a121e7a936f5",
        "outputId": "2831c381-5540-4ff7-a4a1-a12abaf2592e"
      },
      "outputs": [
        {
          "data": {
            "text/html": [
              "<div>\n",
              "<style scoped>\n",
              "    .dataframe tbody tr th:only-of-type {\n",
              "        vertical-align: middle;\n",
              "    }\n",
              "\n",
              "    .dataframe tbody tr th {\n",
              "        vertical-align: top;\n",
              "    }\n",
              "\n",
              "    .dataframe thead th {\n",
              "        text-align: right;\n",
              "    }\n",
              "</style>\n",
              "<table border=\"1\" class=\"dataframe\">\n",
              "  <thead>\n",
              "    <tr style=\"text-align: right;\">\n",
              "      <th></th>\n",
              "      <th></th>\n",
              "      <th>mean</th>\n",
              "    </tr>\n",
              "    <tr>\n",
              "      <th>l1</th>\n",
              "      <th>l2</th>\n",
              "      <th></th>\n",
              "    </tr>\n",
              "  </thead>\n",
              "  <tbody>\n",
              "    <tr>\n",
              "      <th rowspan=\"2\" valign=\"top\">6.000000e-08</th>\n",
              "      <th>0.00006</th>\n",
              "      <td>0.060511</td>\n",
              "    </tr>\n",
              "    <tr>\n",
              "      <th>0.00005</th>\n",
              "      <td>0.058887</td>\n",
              "    </tr>\n",
              "    <tr>\n",
              "      <th>8.000000e-08</th>\n",
              "      <th>0.00004</th>\n",
              "      <td>0.058048</td>\n",
              "    </tr>\n",
              "    <tr>\n",
              "      <th rowspan=\"2\" valign=\"top\">1.400000e-07</th>\n",
              "      <th>0.00006</th>\n",
              "      <td>0.057206</td>\n",
              "    </tr>\n",
              "    <tr>\n",
              "      <th>0.00004</th>\n",
              "      <td>0.056243</td>\n",
              "    </tr>\n",
              "    <tr>\n",
              "      <th>1.200000e-07</th>\n",
              "      <th>0.00005</th>\n",
              "      <td>0.055251</td>\n",
              "    </tr>\n",
              "    <tr>\n",
              "      <th>6.000000e-08</th>\n",
              "      <th>0.00004</th>\n",
              "      <td>0.053523</td>\n",
              "    </tr>\n",
              "    <tr>\n",
              "      <th>1.200000e-07</th>\n",
              "      <th>0.00004</th>\n",
              "      <td>0.053483</td>\n",
              "    </tr>\n",
              "    <tr>\n",
              "      <th>8.000000e-08</th>\n",
              "      <th>0.00005</th>\n",
              "      <td>0.053332</td>\n",
              "    </tr>\n",
              "    <tr>\n",
              "      <th>1.000000e-07</th>\n",
              "      <th>0.00005</th>\n",
              "      <td>0.052861</td>\n",
              "    </tr>\n",
              "  </tbody>\n",
              "</table>\n",
              "</div>"
            ],
            "text/plain": [
              "                          mean\n",
              "l1           l2               \n",
              "6.000000e-08 0.00006  0.060511\n",
              "             0.00005  0.058887\n",
              "8.000000e-08 0.00004  0.058048\n",
              "1.400000e-07 0.00006  0.057206\n",
              "             0.00004  0.056243\n",
              "1.200000e-07 0.00005  0.055251\n",
              "6.000000e-08 0.00004  0.053523\n",
              "1.200000e-07 0.00004  0.053483\n",
              "8.000000e-08 0.00005  0.053332\n",
              "1.000000e-07 0.00005  0.052861"
            ]
          },
          "execution_count": 31,
          "metadata": {},
          "output_type": "execute_result"
        }
      ],
      "source": [
        "res.groupby(['l1', 'l2'])['r2'].agg(['mean']).sort_values('mean', ascending=False).head(10)"
      ]
    },
    {
      "cell_type": "code",
      "execution_count": null,
      "id": "ad144d06-89de-40e5-b338-87a197364bfa",
      "metadata": {
        "id": "ad144d06-89de-40e5-b338-87a197364bfa",
        "outputId": "82fbc36b-cbbb-47b7-aa34-ea94b593dc88"
      },
      "outputs": [
        {
          "data": {
            "text/plain": [
              "<matplotlib.tri.tricontour.TriContourSet at 0x7f1c1015afa0>"
            ]
          },
          "execution_count": 32,
          "metadata": {},
          "output_type": "execute_result"
        },
        {
          "data": {
            "image/png": "[encoded data removed]",
            "text/plain": [
              "<Figure size 360x360 with 1 Axes>"
            ]
          },
          "metadata": {
            "needs_background": "light"
          },
          "output_type": "display_data"
        }
      ],
      "source": [
        "df = res.groupby(['l1', 'l2'], as_index=False)['r2'].mean()\n",
        "fig, axs = plt.subplots(1,1,figsize=(5,5))\n",
        "axs.tricontourf(df.l1, df.l2, df.r2)"
      ]
    },
    {
      "cell_type": "code",
      "execution_count": null,
      "id": "b1e32603-6f01-49f4-92c0-90dec787af62",
      "metadata": {
        "id": "b1e32603-6f01-49f4-92c0-90dec787af62",
        "outputId": "6335668f-5d84-49f5-9319-42c2b36d928d"
      },
      "outputs": [
        {
          "data": {
            "text/html": [
              "<div>\n",
              "<style scoped>\n",
              "    .dataframe tbody tr th:only-of-type {\n",
              "        vertical-align: middle;\n",
              "    }\n",
              "\n",
              "    .dataframe tbody tr th {\n",
              "        vertical-align: top;\n",
              "    }\n",
              "\n",
              "    .dataframe thead th {\n",
              "        text-align: right;\n",
              "    }\n",
              "</style>\n",
              "<table border=\"1\" class=\"dataframe\">\n",
              "  <thead>\n",
              "    <tr style=\"text-align: right;\">\n",
              "      <th></th>\n",
              "      <th></th>\n",
              "      <th></th>\n",
              "      <th></th>\n",
              "      <th>mean</th>\n",
              "      <th>min</th>\n",
              "      <th>std</th>\n",
              "      <th>count</th>\n",
              "    </tr>\n",
              "    <tr>\n",
              "      <th>l1</th>\n",
              "      <th>l2</th>\n",
              "      <th>n_epochs</th>\n",
              "      <th>N</th>\n",
              "      <th></th>\n",
              "      <th></th>\n",
              "      <th></th>\n",
              "      <th></th>\n",
              "    </tr>\n",
              "  </thead>\n",
              "  <tbody>\n",
              "    <tr>\n",
              "      <th>1.000000e-06</th>\n",
              "      <th>0.000025</th>\n",
              "      <th>500</th>\n",
              "      <th>10</th>\n",
              "      <td>0.056938</td>\n",
              "      <td>0.056938</td>\n",
              "      <td>NaN</td>\n",
              "      <td>1</td>\n",
              "    </tr>\n",
              "    <tr>\n",
              "      <th>1.000000e-07</th>\n",
              "      <th>0.000050</th>\n",
              "      <th>500</th>\n",
              "      <th>10</th>\n",
              "      <td>0.053452</td>\n",
              "      <td>0.053452</td>\n",
              "      <td>NaN</td>\n",
              "      <td>1</td>\n",
              "    </tr>\n",
              "    <tr>\n",
              "      <th>5.000000e-07</th>\n",
              "      <th>0.000050</th>\n",
              "      <th>500</th>\n",
              "      <th>10</th>\n",
              "      <td>0.049415</td>\n",
              "      <td>0.049415</td>\n",
              "      <td>NaN</td>\n",
              "      <td>1</td>\n",
              "    </tr>\n",
              "    <tr>\n",
              "      <th>1.000000e-09</th>\n",
              "      <th>0.000050</th>\n",
              "      <th>500</th>\n",
              "      <th>10</th>\n",
              "      <td>0.048409</td>\n",
              "      <td>0.048409</td>\n",
              "      <td>NaN</td>\n",
              "      <td>1</td>\n",
              "    </tr>\n",
              "    <tr>\n",
              "      <th>1.000000e-08</th>\n",
              "      <th>0.000050</th>\n",
              "      <th>500</th>\n",
              "      <th>10</th>\n",
              "      <td>0.048024</td>\n",
              "      <td>0.048024</td>\n",
              "      <td>NaN</td>\n",
              "      <td>1</td>\n",
              "    </tr>\n",
              "    <tr>\n",
              "      <th>5.000000e-08</th>\n",
              "      <th>0.000050</th>\n",
              "      <th>500</th>\n",
              "      <th>10</th>\n",
              "      <td>0.047820</td>\n",
              "      <td>0.047820</td>\n",
              "      <td>NaN</td>\n",
              "      <td>1</td>\n",
              "    </tr>\n",
              "    <tr>\n",
              "      <th>5.000000e-07</th>\n",
              "      <th>0.000025</th>\n",
              "      <th>500</th>\n",
              "      <th>10</th>\n",
              "      <td>0.043386</td>\n",
              "      <td>0.043386</td>\n",
              "      <td>NaN</td>\n",
              "      <td>1</td>\n",
              "    </tr>\n",
              "    <tr>\n",
              "      <th>1.000000e-07</th>\n",
              "      <th>0.000025</th>\n",
              "      <th>500</th>\n",
              "      <th>10</th>\n",
              "      <td>0.039066</td>\n",
              "      <td>0.039066</td>\n",
              "      <td>NaN</td>\n",
              "      <td>1</td>\n",
              "    </tr>\n",
              "    <tr>\n",
              "      <th>5.000000e-08</th>\n",
              "      <th>0.000025</th>\n",
              "      <th>500</th>\n",
              "      <th>10</th>\n",
              "      <td>0.036544</td>\n",
              "      <td>0.036544</td>\n",
              "      <td>NaN</td>\n",
              "      <td>1</td>\n",
              "    </tr>\n",
              "    <tr>\n",
              "      <th>1.000000e-09</th>\n",
              "      <th>0.000025</th>\n",
              "      <th>500</th>\n",
              "      <th>10</th>\n",
              "      <td>0.034882</td>\n",
              "      <td>0.034882</td>\n",
              "      <td>NaN</td>\n",
              "      <td>1</td>\n",
              "    </tr>\n",
              "  </tbody>\n",
              "</table>\n",
              "</div>"
            ],
            "text/plain": [
              "                                       mean       min  std  count\n",
              "l1           l2       n_epochs N                                 \n",
              "1.000000e-06 0.000025 500      10  0.056938  0.056938  NaN      1\n",
              "1.000000e-07 0.000050 500      10  0.053452  0.053452  NaN      1\n",
              "5.000000e-07 0.000050 500      10  0.049415  0.049415  NaN      1\n",
              "1.000000e-09 0.000050 500      10  0.048409  0.048409  NaN      1\n",
              "1.000000e-08 0.000050 500      10  0.048024  0.048024  NaN      1\n",
              "5.000000e-08 0.000050 500      10  0.047820  0.047820  NaN      1\n",
              "5.000000e-07 0.000025 500      10  0.043386  0.043386  NaN      1\n",
              "1.000000e-07 0.000025 500      10  0.039066  0.039066  NaN      1\n",
              "5.000000e-08 0.000025 500      10  0.036544  0.036544  NaN      1\n",
              "1.000000e-09 0.000025 500      10  0.034882  0.034882  NaN      1"
            ]
          },
          "execution_count": 19,
          "metadata": {},
          "output_type": "execute_result"
        }
      ],
      "source": [
        "res.groupby(['l1', 'l2'])['r2'].agg(['mean']).sort_values('mean', ascending=False).head(10)"
      ]
    },
    {
      "cell_type": "code",
      "execution_count": null,
      "id": "0f6261d1-3489-4a87-8c12-f1848a6645bb",
      "metadata": {
        "id": "0f6261d1-3489-4a87-8c12-f1848a6645bb"
      },
      "outputs": [],
      "source": [
        "res.to_pickle('dnn_tunning_dxy_full_1.pkl')"
      ]
    },
    {
      "cell_type": "code",
      "execution_count": null,
      "id": "befecc5b-3033-4574-ac3d-6626f35c88f1",
      "metadata": {
        "id": "befecc5b-3033-4574-ac3d-6626f35c88f1"
      },
      "outputs": [],
      "source": [
        "res = pd.read_pickle('dnn_tunning_dxy_full_1.pkl')"
      ]
    },
    {
      "cell_type": "code",
      "execution_count": null,
      "id": "84544f63-2ee9-49da-8811-7f5471ec10ec",
      "metadata": {
        "id": "84544f63-2ee9-49da-8811-7f5471ec10ec",
        "outputId": "9f68e57c-03db-424e-aa5d-0488d543dd4a"
      },
      "outputs": [
        {
          "data": {
            "text/plain": [
              "<matplotlib.tri.tricontour.TriContourSet at 0x7f1c100788e0>"
            ]
          },
          "execution_count": 22,
          "metadata": {},
          "output_type": "execute_result"
        },
        {
          "data": {
            "image/png": "[encoded data removed]",
            "text/plain": [
              "<Figure size 360x360 with 1 Axes>"
            ]
          },
          "metadata": {
            "needs_background": "light"
          },
          "output_type": "display_data"
        }
      ],
      "source": [
        "df = res.groupby(['l1', 'l2'], as_index=False)['r2'].mean()\n",
        "\n",
        "fig, axs = plt.subplots(1,1,figsize=(5,5))\n",
        "\n",
        "axs.tricontourf(df.l1, df.l2, df.r2)"
      ]
    },
    {
      "cell_type": "markdown",
      "id": "1b9e4c41-c9bc-4056-9b5f-5eb878edd0fc",
      "metadata": {
        "id": "1b9e4c41-c9bc-4056-9b5f-5eb878edd0fc"
      },
      "source": [
        "## Small"
      ]
    },
    {
      "cell_type": "code",
      "execution_count": null,
      "id": "5a2e066e-d1de-444c-acef-bbafb7d3ee1f",
      "metadata": {
        "id": "5a2e066e-d1de-444c-acef-bbafb7d3ee1f"
      },
      "outputs": [],
      "source": [
        "X, y = read_Xy('Xsdsm.pkl', 'ym.pkl')\n",
        "X = X[sds + cv + gv]\n",
        "y = y.unstack()[co6].dot(dxy_weight)\n",
        "X = X.unstack()"
      ]
    },
    {
      "cell_type": "code",
      "execution_count": null,
      "id": "ecb500b8-47bd-4ee5-9981-95c819a1c74a",
      "metadata": {
        "id": "ecb500b8-47bd-4ee5-9981-95c819a1c74a",
        "outputId": "0a3fe0eb-cf90-48a6-b963-8b2439be30a6"
      },
      "outputs": [
        {
          "name": "stderr",
          "output_type": "stream",
          "text": [
            "25it [1:49:37, 263.10s/it]\n"
          ]
        }
      ],
      "source": [
        "X, y = read_Xy('Xsdsm.pkl', 'ym.pkl')\n",
        "\n",
        "X_train, X_test, y_train, y_test = train_test_split(X, y, random_state=0, test_size=0.3, shuffle=False)\n",
        "\n",
        "n_input = X.shape[1]\n",
        "\n",
        "res = pd.DataFrame(columns = ['l1', 'l2', 'n_epochs', 'N', 'dropout', 'r2'])\n",
        "        \n",
        "for i, j, n_epochs, N in tqdm(itertools.product([1.4, 1.2, 1, 0.8, 0.6], [1.4, 1.2, 1, 0.8, 0.6], [500], [10])):\n",
        "    \n",
        "    l1 = 1e-7*i\n",
        "    l2 = 5e-5*j\n",
        "        \n",
        "    pre = dnn_ensemble(X_train, X_test, y_train, y_test, n_input, l1, l2, n_epochs, N)\n",
        "    \n",
        "    error = y_test - pre\n",
        "    r2 = (1 - np.sum(error**2)/np.sum(y_test**2))\n",
        "\n",
        "    df = pd.DataFrame([[l1, l2, n_epochs, N, r2]], columns = ['l1', 'l2', 'n_epochs', 'N', 'r2'])\n",
        "    res = pd.concat([res, df], axis=0)\n",
        "    \n",
        "    # print(f'l1: {l1_reg*1e6:.5f} E-6,\\t l2: {l2_reg*1e6:.5f} E-6,\\t MSE: {score[1]*1e3:.3f} E-3,\\t R2: {r2*1e3:+6.4f} E-3')"
      ]
    },
    {
      "cell_type": "code",
      "execution_count": null,
      "id": "845f432e-2d9f-44ee-a41d-a97a9babbeb7",
      "metadata": {
        "id": "845f432e-2d9f-44ee-a41d-a97a9babbeb7",
        "outputId": "67defa60-bc6f-4ddc-ad56-1b6324ec13b2"
      },
      "outputs": [
        {
          "data": {
            "text/html": [
              "<div>\n",
              "<style scoped>\n",
              "    .dataframe tbody tr th:only-of-type {\n",
              "        vertical-align: middle;\n",
              "    }\n",
              "\n",
              "    .dataframe tbody tr th {\n",
              "        vertical-align: top;\n",
              "    }\n",
              "\n",
              "    .dataframe thead th {\n",
              "        text-align: right;\n",
              "    }\n",
              "</style>\n",
              "<table border=\"1\" class=\"dataframe\">\n",
              "  <thead>\n",
              "    <tr style=\"text-align: right;\">\n",
              "      <th></th>\n",
              "      <th></th>\n",
              "      <th>mean</th>\n",
              "    </tr>\n",
              "    <tr>\n",
              "      <th>l1</th>\n",
              "      <th>l2</th>\n",
              "      <th></th>\n",
              "    </tr>\n",
              "  </thead>\n",
              "  <tbody>\n",
              "    <tr>\n",
              "      <th>6.000000e-08</th>\n",
              "      <th>0.00005</th>\n",
              "      <td>0.061995</td>\n",
              "    </tr>\n",
              "    <tr>\n",
              "      <th>8.000000e-08</th>\n",
              "      <th>0.00005</th>\n",
              "      <td>0.057952</td>\n",
              "    </tr>\n",
              "    <tr>\n",
              "      <th>1.400000e-07</th>\n",
              "      <th>0.00004</th>\n",
              "      <td>0.057050</td>\n",
              "    </tr>\n",
              "    <tr>\n",
              "      <th>1.200000e-07</th>\n",
              "      <th>0.00004</th>\n",
              "      <td>0.054502</td>\n",
              "    </tr>\n",
              "    <tr>\n",
              "      <th rowspan=\"2\" valign=\"top\">6.000000e-08</th>\n",
              "      <th>0.00004</th>\n",
              "      <td>0.053468</td>\n",
              "    </tr>\n",
              "    <tr>\n",
              "      <th>0.00007</th>\n",
              "      <td>0.053259</td>\n",
              "    </tr>\n",
              "    <tr>\n",
              "      <th>1.200000e-07</th>\n",
              "      <th>0.00007</th>\n",
              "      <td>0.051598</td>\n",
              "    </tr>\n",
              "    <tr>\n",
              "      <th>8.000000e-08</th>\n",
              "      <th>0.00007</th>\n",
              "      <td>0.049484</td>\n",
              "    </tr>\n",
              "    <tr>\n",
              "      <th rowspan=\"2\" valign=\"top\">1.000000e-07</th>\n",
              "      <th>0.00004</th>\n",
              "      <td>0.048644</td>\n",
              "    </tr>\n",
              "    <tr>\n",
              "      <th>0.00007</th>\n",
              "      <td>0.047646</td>\n",
              "    </tr>\n",
              "  </tbody>\n",
              "</table>\n",
              "</div>"
            ],
            "text/plain": [
              "                          mean\n",
              "l1           l2               \n",
              "6.000000e-08 0.00005  0.061995\n",
              "8.000000e-08 0.00005  0.057952\n",
              "1.400000e-07 0.00004  0.057050\n",
              "1.200000e-07 0.00004  0.054502\n",
              "6.000000e-08 0.00004  0.053468\n",
              "             0.00007  0.053259\n",
              "1.200000e-07 0.00007  0.051598\n",
              "8.000000e-08 0.00007  0.049484\n",
              "1.000000e-07 0.00004  0.048644\n",
              "             0.00007  0.047646"
            ]
          },
          "execution_count": 35,
          "metadata": {},
          "output_type": "execute_result"
        }
      ],
      "source": [
        "res.groupby(['l1', 'l2'])['r2'].agg(['mean']).sort_values('mean', ascending=False).head(10)"
      ]
    },
    {
      "cell_type": "code",
      "execution_count": null,
      "id": "cf3c0e32-695e-4e94-a027-c932763b16cb",
      "metadata": {
        "id": "cf3c0e32-695e-4e94-a027-c932763b16cb",
        "outputId": "e1ca58ff-e164-408a-a7fa-730cf9833c8b"
      },
      "outputs": [
        {
          "data": {
            "text/plain": [
              "<matplotlib.tri.tricontour.TriContourSet at 0x7f1c100660d0>"
            ]
          },
          "execution_count": 36,
          "metadata": {},
          "output_type": "execute_result"
        },
        {
          "data": {
            "image/png": "[encoded data removed]",
            "text/plain": [
              "<Figure size 360x360 with 1 Axes>"
            ]
          },
          "metadata": {
            "needs_background": "light"
          },
          "output_type": "display_data"
        }
      ],
      "source": [
        "df = res.groupby(['l1', 'l2'], as_index=False)['r2'].mean()\n",
        "fig, axs = plt.subplots(1,1,figsize=(5,5))\n",
        "axs.tricontourf(df.l1, df.l2, df.r2)"
      ]
    },
    {
      "cell_type": "code",
      "execution_count": null,
      "id": "5eb46bbe-51f1-466f-8ab4-6294e058cc80",
      "metadata": {
        "id": "5eb46bbe-51f1-466f-8ab4-6294e058cc80",
        "outputId": "8b095a35-654e-4615-ed1b-03ee5e3f18f0"
      },
      "outputs": [
        {
          "data": {
            "text/html": [
              "<div>\n",
              "<style scoped>\n",
              "    .dataframe tbody tr th:only-of-type {\n",
              "        vertical-align: middle;\n",
              "    }\n",
              "\n",
              "    .dataframe tbody tr th {\n",
              "        vertical-align: top;\n",
              "    }\n",
              "\n",
              "    .dataframe thead th {\n",
              "        text-align: right;\n",
              "    }\n",
              "</style>\n",
              "<table border=\"1\" class=\"dataframe\">\n",
              "  <thead>\n",
              "    <tr style=\"text-align: right;\">\n",
              "      <th></th>\n",
              "      <th></th>\n",
              "      <th></th>\n",
              "      <th></th>\n",
              "      <th>mean</th>\n",
              "      <th>min</th>\n",
              "      <th>std</th>\n",
              "      <th>count</th>\n",
              "    </tr>\n",
              "    <tr>\n",
              "      <th>l1</th>\n",
              "      <th>l2</th>\n",
              "      <th>n_epochs</th>\n",
              "      <th>N</th>\n",
              "      <th></th>\n",
              "      <th></th>\n",
              "      <th></th>\n",
              "      <th></th>\n",
              "    </tr>\n",
              "  </thead>\n",
              "  <tbody>\n",
              "    <tr>\n",
              "      <th>1.000000e-08</th>\n",
              "      <th>0.000050</th>\n",
              "      <th>500</th>\n",
              "      <th>10</th>\n",
              "      <td>0.061025</td>\n",
              "      <td>0.061025</td>\n",
              "      <td>NaN</td>\n",
              "      <td>1</td>\n",
              "    </tr>\n",
              "    <tr>\n",
              "      <th>5.000000e-08</th>\n",
              "      <th>0.000050</th>\n",
              "      <th>500</th>\n",
              "      <th>10</th>\n",
              "      <td>0.057805</td>\n",
              "      <td>0.057805</td>\n",
              "      <td>NaN</td>\n",
              "      <td>1</td>\n",
              "    </tr>\n",
              "    <tr>\n",
              "      <th>5.000000e-07</th>\n",
              "      <th>0.000025</th>\n",
              "      <th>500</th>\n",
              "      <th>10</th>\n",
              "      <td>0.050759</td>\n",
              "      <td>0.050759</td>\n",
              "      <td>NaN</td>\n",
              "      <td>1</td>\n",
              "    </tr>\n",
              "    <tr>\n",
              "      <th>1.000000e-09</th>\n",
              "      <th>0.000050</th>\n",
              "      <th>500</th>\n",
              "      <th>10</th>\n",
              "      <td>0.047527</td>\n",
              "      <td>0.047527</td>\n",
              "      <td>NaN</td>\n",
              "      <td>1</td>\n",
              "    </tr>\n",
              "    <tr>\n",
              "      <th>1.000000e-07</th>\n",
              "      <th>0.000050</th>\n",
              "      <th>500</th>\n",
              "      <th>10</th>\n",
              "      <td>0.045695</td>\n",
              "      <td>0.045695</td>\n",
              "      <td>NaN</td>\n",
              "      <td>1</td>\n",
              "    </tr>\n",
              "    <tr>\n",
              "      <th>1.000000e-06</th>\n",
              "      <th>0.000025</th>\n",
              "      <th>500</th>\n",
              "      <th>10</th>\n",
              "      <td>0.044406</td>\n",
              "      <td>0.044406</td>\n",
              "      <td>NaN</td>\n",
              "      <td>1</td>\n",
              "    </tr>\n",
              "    <tr>\n",
              "      <th>1.000000e-08</th>\n",
              "      <th>0.000025</th>\n",
              "      <th>500</th>\n",
              "      <th>10</th>\n",
              "      <td>0.040531</td>\n",
              "      <td>0.040531</td>\n",
              "      <td>NaN</td>\n",
              "      <td>1</td>\n",
              "    </tr>\n",
              "    <tr>\n",
              "      <th>1.000000e-06</th>\n",
              "      <th>0.000050</th>\n",
              "      <th>500</th>\n",
              "      <th>10</th>\n",
              "      <td>0.039457</td>\n",
              "      <td>0.039457</td>\n",
              "      <td>NaN</td>\n",
              "      <td>1</td>\n",
              "    </tr>\n",
              "    <tr>\n",
              "      <th>1.000000e-07</th>\n",
              "      <th>0.000025</th>\n",
              "      <th>500</th>\n",
              "      <th>10</th>\n",
              "      <td>0.036690</td>\n",
              "      <td>0.036690</td>\n",
              "      <td>NaN</td>\n",
              "      <td>1</td>\n",
              "    </tr>\n",
              "    <tr>\n",
              "      <th>1.000000e-09</th>\n",
              "      <th>0.000025</th>\n",
              "      <th>500</th>\n",
              "      <th>10</th>\n",
              "      <td>0.035573</td>\n",
              "      <td>0.035573</td>\n",
              "      <td>NaN</td>\n",
              "      <td>1</td>\n",
              "    </tr>\n",
              "  </tbody>\n",
              "</table>\n",
              "</div>"
            ],
            "text/plain": [
              "                                       mean       min  std  count\n",
              "l1           l2       n_epochs N                                 \n",
              "1.000000e-08 0.000050 500      10  0.061025  0.061025  NaN      1\n",
              "5.000000e-08 0.000050 500      10  0.057805  0.057805  NaN      1\n",
              "5.000000e-07 0.000025 500      10  0.050759  0.050759  NaN      1\n",
              "1.000000e-09 0.000050 500      10  0.047527  0.047527  NaN      1\n",
              "1.000000e-07 0.000050 500      10  0.045695  0.045695  NaN      1\n",
              "1.000000e-06 0.000025 500      10  0.044406  0.044406  NaN      1\n",
              "1.000000e-08 0.000025 500      10  0.040531  0.040531  NaN      1\n",
              "1.000000e-06 0.000050 500      10  0.039457  0.039457  NaN      1\n",
              "1.000000e-07 0.000025 500      10  0.036690  0.036690  NaN      1\n",
              "1.000000e-09 0.000025 500      10  0.035573  0.035573  NaN      1"
            ]
          },
          "execution_count": 15,
          "metadata": {},
          "output_type": "execute_result"
        }
      ],
      "source": [
        "res.groupby(['l1', 'l2', 'n_epochs', 'N'])['r2'].agg(['mean', 'min', 'std', 'count']).sort_values('mean', ascending=False).head(10)"
      ]
    },
    {
      "cell_type": "code",
      "execution_count": null,
      "id": "5714a4fa-322a-4518-a2cf-7b66c2bf0cf4",
      "metadata": {
        "id": "5714a4fa-322a-4518-a2cf-7b66c2bf0cf4"
      },
      "outputs": [],
      "source": [
        "res.to_pickle('dnn_tunning_dxy_small_1.pkl')"
      ]
    },
    {
      "cell_type": "code",
      "execution_count": null,
      "id": "b239ccf9-58fc-4556-a5bb-b1c4a2a5ae00",
      "metadata": {
        "id": "b239ccf9-58fc-4556-a5bb-b1c4a2a5ae00"
      },
      "outputs": [],
      "source": [
        "res = pd.read_pickle('dnn_tunning_dxy_small_1.pkl')"
      ]
    },
    {
      "cell_type": "code",
      "execution_count": null,
      "id": "dcb0e8a2-4b25-4627-a2d0-a13c95dcb464",
      "metadata": {
        "id": "dcb0e8a2-4b25-4627-a2d0-a13c95dcb464",
        "outputId": "6fcb8955-983d-494e-c542-a10bc8645ad5"
      },
      "outputs": [
        {
          "data": {
            "text/plain": [
              "<matplotlib.tri.tricontour.TriContourSet at 0x7f1c105bd8e0>"
            ]
          },
          "execution_count": 24,
          "metadata": {},
          "output_type": "execute_result"
        },
        {
          "data": {
            "image/png": "[encoded data removed]",
            "text/plain": [
              "<Figure size 360x360 with 1 Axes>"
            ]
          },
          "metadata": {
            "needs_background": "light"
          },
          "output_type": "display_data"
        }
      ],
      "source": [
        "df = res.groupby(['l1', 'l2'], as_index=False)['r2'].mean()\n",
        "\n",
        "fig, axs = plt.subplots(1,1,figsize=(5,5))\n",
        "\n",
        "axs.tricontourf(df.l1, df.l2, df.r2)"
      ]
    },
    {
      "cell_type": "code",
      "execution_count": null,
      "id": "fbd9019c-4b8e-4fb0-8423-c9f7cb5248c7",
      "metadata": {
        "id": "fbd9019c-4b8e-4fb0-8423-c9f7cb5248c7",
        "outputId": "f0a6989a-4c3e-4fcf-cb18-0071323387a7"
      },
      "outputs": [
        {
          "data": {
            "text/html": [
              "<div>\n",
              "<style scoped>\n",
              "    .dataframe tbody tr th:only-of-type {\n",
              "        vertical-align: middle;\n",
              "    }\n",
              "\n",
              "    .dataframe tbody tr th {\n",
              "        vertical-align: top;\n",
              "    }\n",
              "\n",
              "    .dataframe thead th {\n",
              "        text-align: right;\n",
              "    }\n",
              "</style>\n",
              "<table border=\"1\" class=\"dataframe\">\n",
              "  <thead>\n",
              "    <tr style=\"text-align: right;\">\n",
              "      <th></th>\n",
              "      <th></th>\n",
              "      <th></th>\n",
              "      <th></th>\n",
              "      <th>mean</th>\n",
              "      <th>min</th>\n",
              "      <th>std</th>\n",
              "      <th>count</th>\n",
              "    </tr>\n",
              "    <tr>\n",
              "      <th>l1</th>\n",
              "      <th>l2</th>\n",
              "      <th>n_epochs</th>\n",
              "      <th>N</th>\n",
              "      <th></th>\n",
              "      <th></th>\n",
              "      <th></th>\n",
              "      <th></th>\n",
              "    </tr>\n",
              "  </thead>\n",
              "  <tbody>\n",
              "    <tr>\n",
              "      <th>1.000000e-08</th>\n",
              "      <th>0.000050</th>\n",
              "      <th>500</th>\n",
              "      <th>10</th>\n",
              "      <td>0.061025</td>\n",
              "      <td>0.061025</td>\n",
              "      <td>NaN</td>\n",
              "      <td>1</td>\n",
              "    </tr>\n",
              "    <tr>\n",
              "      <th>5.000000e-08</th>\n",
              "      <th>0.000050</th>\n",
              "      <th>500</th>\n",
              "      <th>10</th>\n",
              "      <td>0.057805</td>\n",
              "      <td>0.057805</td>\n",
              "      <td>NaN</td>\n",
              "      <td>1</td>\n",
              "    </tr>\n",
              "    <tr>\n",
              "      <th>5.000000e-07</th>\n",
              "      <th>0.000025</th>\n",
              "      <th>500</th>\n",
              "      <th>10</th>\n",
              "      <td>0.050759</td>\n",
              "      <td>0.050759</td>\n",
              "      <td>NaN</td>\n",
              "      <td>1</td>\n",
              "    </tr>\n",
              "    <tr>\n",
              "      <th>1.000000e-09</th>\n",
              "      <th>0.000050</th>\n",
              "      <th>500</th>\n",
              "      <th>10</th>\n",
              "      <td>0.047527</td>\n",
              "      <td>0.047527</td>\n",
              "      <td>NaN</td>\n",
              "      <td>1</td>\n",
              "    </tr>\n",
              "    <tr>\n",
              "      <th>1.000000e-07</th>\n",
              "      <th>0.000050</th>\n",
              "      <th>500</th>\n",
              "      <th>10</th>\n",
              "      <td>0.045695</td>\n",
              "      <td>0.045695</td>\n",
              "      <td>NaN</td>\n",
              "      <td>1</td>\n",
              "    </tr>\n",
              "    <tr>\n",
              "      <th>1.000000e-06</th>\n",
              "      <th>0.000025</th>\n",
              "      <th>500</th>\n",
              "      <th>10</th>\n",
              "      <td>0.044406</td>\n",
              "      <td>0.044406</td>\n",
              "      <td>NaN</td>\n",
              "      <td>1</td>\n",
              "    </tr>\n",
              "    <tr>\n",
              "      <th>1.000000e-08</th>\n",
              "      <th>0.000025</th>\n",
              "      <th>500</th>\n",
              "      <th>10</th>\n",
              "      <td>0.040531</td>\n",
              "      <td>0.040531</td>\n",
              "      <td>NaN</td>\n",
              "      <td>1</td>\n",
              "    </tr>\n",
              "    <tr>\n",
              "      <th>1.000000e-06</th>\n",
              "      <th>0.000050</th>\n",
              "      <th>500</th>\n",
              "      <th>10</th>\n",
              "      <td>0.039457</td>\n",
              "      <td>0.039457</td>\n",
              "      <td>NaN</td>\n",
              "      <td>1</td>\n",
              "    </tr>\n",
              "    <tr>\n",
              "      <th>1.000000e-07</th>\n",
              "      <th>0.000025</th>\n",
              "      <th>500</th>\n",
              "      <th>10</th>\n",
              "      <td>0.036690</td>\n",
              "      <td>0.036690</td>\n",
              "      <td>NaN</td>\n",
              "      <td>1</td>\n",
              "    </tr>\n",
              "    <tr>\n",
              "      <th>1.000000e-09</th>\n",
              "      <th>0.000025</th>\n",
              "      <th>500</th>\n",
              "      <th>10</th>\n",
              "      <td>0.035573</td>\n",
              "      <td>0.035573</td>\n",
              "      <td>NaN</td>\n",
              "      <td>1</td>\n",
              "    </tr>\n",
              "  </tbody>\n",
              "</table>\n",
              "</div>"
            ],
            "text/plain": [
              "                                       mean       min  std  count\n",
              "l1           l2       n_epochs N                                 \n",
              "1.000000e-08 0.000050 500      10  0.061025  0.061025  NaN      1\n",
              "5.000000e-08 0.000050 500      10  0.057805  0.057805  NaN      1\n",
              "5.000000e-07 0.000025 500      10  0.050759  0.050759  NaN      1\n",
              "1.000000e-09 0.000050 500      10  0.047527  0.047527  NaN      1\n",
              "1.000000e-07 0.000050 500      10  0.045695  0.045695  NaN      1\n",
              "1.000000e-06 0.000025 500      10  0.044406  0.044406  NaN      1\n",
              "1.000000e-08 0.000025 500      10  0.040531  0.040531  NaN      1\n",
              "1.000000e-06 0.000050 500      10  0.039457  0.039457  NaN      1\n",
              "1.000000e-07 0.000025 500      10  0.036690  0.036690  NaN      1\n",
              "1.000000e-09 0.000025 500      10  0.035573  0.035573  NaN      1"
            ]
          },
          "execution_count": 26,
          "metadata": {},
          "output_type": "execute_result"
        }
      ],
      "source": [
        "res.loc[res.l2 < 0.005].groupby(['l1', 'l2', 'n_epochs', 'N'])['r2'].agg(['mean', 'min', 'std', 'count']).sort_values('mean', ascending=False).head(10)"
      ]
    },
    {
      "cell_type": "code",
      "execution_count": null,
      "id": "3ed5e687-685e-4f4a-8290-8a6748856426",
      "metadata": {
        "id": "3ed5e687-685e-4f4a-8290-8a6748856426",
        "outputId": "3da77b53-adea-4d7a-8cdc-d4e305c7845f"
      },
      "outputs": [
        {
          "data": {
            "text/html": [
              "<div>\n",
              "<style scoped>\n",
              "    .dataframe tbody tr th:only-of-type {\n",
              "        vertical-align: middle;\n",
              "    }\n",
              "\n",
              "    .dataframe tbody tr th {\n",
              "        vertical-align: top;\n",
              "    }\n",
              "\n",
              "    .dataframe thead th {\n",
              "        text-align: right;\n",
              "    }\n",
              "</style>\n",
              "<table border=\"1\" class=\"dataframe\">\n",
              "  <thead>\n",
              "    <tr style=\"text-align: right;\">\n",
              "      <th></th>\n",
              "      <th></th>\n",
              "      <th></th>\n",
              "      <th></th>\n",
              "      <th>mean</th>\n",
              "      <th>min</th>\n",
              "      <th>std</th>\n",
              "      <th>count</th>\n",
              "    </tr>\n",
              "    <tr>\n",
              "      <th>l1</th>\n",
              "      <th>l2</th>\n",
              "      <th>n_epochs</th>\n",
              "      <th>N</th>\n",
              "      <th></th>\n",
              "      <th></th>\n",
              "      <th></th>\n",
              "      <th></th>\n",
              "    </tr>\n",
              "  </thead>\n",
              "  <tbody>\n",
              "    <tr>\n",
              "      <th rowspan=\"7\" valign=\"top\">1.000000e-08</th>\n",
              "      <th>5.000000e-05</th>\n",
              "      <th>500</th>\n",
              "      <th>10</th>\n",
              "      <td>0.061025</td>\n",
              "      <td>0.061025</td>\n",
              "      <td>NaN</td>\n",
              "      <td>1</td>\n",
              "    </tr>\n",
              "    <tr>\n",
              "      <th>2.500000e-05</th>\n",
              "      <th>500</th>\n",
              "      <th>10</th>\n",
              "      <td>0.040531</td>\n",
              "      <td>0.040531</td>\n",
              "      <td>NaN</td>\n",
              "      <td>1</td>\n",
              "    </tr>\n",
              "    <tr>\n",
              "      <th>2.500000e-04</th>\n",
              "      <th>500</th>\n",
              "      <th>10</th>\n",
              "      <td>0.000000</td>\n",
              "      <td>0.000000</td>\n",
              "      <td>NaN</td>\n",
              "      <td>1</td>\n",
              "    </tr>\n",
              "    <tr>\n",
              "      <th>5.000000e-04</th>\n",
              "      <th>500</th>\n",
              "      <th>10</th>\n",
              "      <td>0.000000</td>\n",
              "      <td>0.000000</td>\n",
              "      <td>NaN</td>\n",
              "      <td>1</td>\n",
              "    </tr>\n",
              "    <tr>\n",
              "      <th>5.000000e-03</th>\n",
              "      <th>500</th>\n",
              "      <th>10</th>\n",
              "      <td>0.000000</td>\n",
              "      <td>0.000000</td>\n",
              "      <td>NaN</td>\n",
              "      <td>1</td>\n",
              "    </tr>\n",
              "    <tr>\n",
              "      <th>5.000000e-06</th>\n",
              "      <th>500</th>\n",
              "      <th>10</th>\n",
              "      <td>-0.031950</td>\n",
              "      <td>-0.031950</td>\n",
              "      <td>NaN</td>\n",
              "      <td>1</td>\n",
              "    </tr>\n",
              "    <tr>\n",
              "      <th>5.000000e-07</th>\n",
              "      <th>500</th>\n",
              "      <th>10</th>\n",
              "      <td>-0.282042</td>\n",
              "      <td>-0.282042</td>\n",
              "      <td>NaN</td>\n",
              "      <td>1</td>\n",
              "    </tr>\n",
              "  </tbody>\n",
              "</table>\n",
              "</div>"
            ],
            "text/plain": [
              "                                           mean       min  std  count\n",
              "l1           l2           n_epochs N                                 \n",
              "1.000000e-08 5.000000e-05 500      10  0.061025  0.061025  NaN      1\n",
              "             2.500000e-05 500      10  0.040531  0.040531  NaN      1\n",
              "             2.500000e-04 500      10  0.000000  0.000000  NaN      1\n",
              "             5.000000e-04 500      10  0.000000  0.000000  NaN      1\n",
              "             5.000000e-03 500      10  0.000000  0.000000  NaN      1\n",
              "             5.000000e-06 500      10 -0.031950 -0.031950  NaN      1\n",
              "             5.000000e-07 500      10 -0.282042 -0.282042  NaN      1"
            ]
          },
          "execution_count": 28,
          "metadata": {},
          "output_type": "execute_result"
        }
      ],
      "source": [
        "res.loc[res.l1 == 1e-8].groupby(['l1', 'l2', 'n_epochs', 'N'])['r2'].agg(['mean', 'min', 'std', 'count']).sort_values('mean', ascending=False).head(10)"
      ]
    },
    {
      "cell_type": "code",
      "execution_count": null,
      "id": "8dbbcdd0-cfb5-405d-9b56-543723018a41",
      "metadata": {
        "id": "8dbbcdd0-cfb5-405d-9b56-543723018a41"
      },
      "outputs": [],
      "source": []
    }
  ],
  "metadata": {
    "kernelspec": {
      "display_name": "Lablup FF 21.05 on Python 3.8 (CUDA 10.1)",
      "language": "python",
      "name": "python3"
    },
    "language_info": {
      "codemirror_mode": {
        "name": "ipython",
        "version": 3
      },
      "file_extension": ".py",
      "mimetype": "text/x-python",
      "name": "python",
      "nbconvert_exporter": "python",
      "pygments_lexer": "ipython3",
      "version": "3.8.10"
    },
    "toc-autonumbering": false,
    "toc-showcode": false,
    "colab": {
      "provenance": [],
      "machine_shape": "hm",
      "include_colab_link": true
    },
    "accelerator": "GPU",
    "gpuClass": "premium"
  },
  "nbformat": 4,
  "nbformat_minor": 5
}